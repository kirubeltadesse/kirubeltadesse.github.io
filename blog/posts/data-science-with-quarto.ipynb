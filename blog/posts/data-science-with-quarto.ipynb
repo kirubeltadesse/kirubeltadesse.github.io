{
  "cells": [
    {
      "cell_type": "raw",
      "metadata": {},
      "source": [
        "---\n",
        "title: \"Data Science with Quarto\"\n",
        "author: \"Kirubel Tadesse\"\n",
        "date: \"2024-08-24\"\n",
        "categories: [data-science, python, quarto]\n",
        "description: \"Exploring data science capabilities in Quarto blog posts\"\n",
        "---"
      ],
      "id": "b9f24153"
    },
    {
      "cell_type": "markdown",
      "metadata": {},
      "source": [
        "One of the most powerful features of Quarto is the ability to mix narrative content with executable code. This makes it perfect for data science blogging where you want to show both the process and results.\n",
        "\n",
        "## Working with Data\n",
        "\n",
        "Let's start with a simple data analysis example:\n"
      ],
      "id": "1f58cd5c"
    },
    {
      "cell_type": "code",
      "metadata": {},
      "source": [
        "import pandas as pd\n",
        "import numpy as np\n",
        "import matplotlib.pyplot as plt\n",
        "\n",
        "# Create sample data\n",
        "np.random.seed(42)\n",
        "data = {\n",
        "    'month': ['Jan', 'Feb', 'Mar', 'Apr', 'May', 'Jun'],\n",
        "    'sales': np.random.randint(1000, 5000, 6),\n",
        "    'profit': np.random.randint(100, 800, 6)\n",
        "}\n",
        "\n",
        "df = pd.DataFrame(data)\n",
        "print(\"Sample Sales Data:\")\n",
        "print(df)"
      ],
      "id": "64fd5341",
      "execution_count": null,
      "outputs": []
    },
    {
      "cell_type": "markdown",
      "metadata": {},
      "source": [
        "## Mathematical Equations\n",
        "\n",
        "Quarto handles LaTeX beautifully. Here's the formula for linear regression:\n",
        "\n",
        "$$\\hat{y} = \\beta_0 + \\beta_1 x_1 + \\beta_2 x_2 + \\ldots + \\beta_n x_n$$\n",
        "\n",
        "For machine learning enthusiasts, here's the cross-entropy loss function:\n",
        "\n",
        "$$L = -\\frac{1}{N} \\sum_{i=1}^{N} \\sum_{c=1}^{C} y_{ic} \\log(p_{ic})$$\n",
        "\n",
        "## Visualizations\n"
      ],
      "id": "47e1c5a1"
    },
    {
      "cell_type": "code",
      "metadata": {},
      "source": [
        "#| fig-cap: \"Monthly Sales and Profit Trends\"\n",
        "#| fig-alt: \"Bar chart showing sales and profit by month\"\n",
        "\n",
        "fig, (ax1, ax2) = plt.subplots(1, 2, figsize=(12, 5))\n",
        "\n",
        "# Sales chart\n",
        "ax1.bar(df['month'], df['sales'], color='steelblue', alpha=0.7)\n",
        "ax1.set_title('Monthly Sales')\n",
        "ax1.set_ylabel('Sales ($)')\n",
        "ax1.tick_params(axis='x', rotation=45)\n",
        "\n",
        "# Profit chart  \n",
        "ax2.bar(df['month'], df['profit'], color='darkgreen', alpha=0.7)\n",
        "ax2.set_title('Monthly Profit')\n",
        "ax2.set_ylabel('Profit ($)')\n",
        "ax2.tick_params(axis='x', rotation=45)\n",
        "\n",
        "plt.tight_layout()\n",
        "plt.show()"
      ],
      "id": "c05688a8",
      "execution_count": null,
      "outputs": []
    },
    {
      "cell_type": "markdown",
      "metadata": {},
      "source": [
        "## Code with Output\n"
      ],
      "id": "7ecdd958"
    },
    {
      "cell_type": "code",
      "metadata": {},
      "source": [
        "# Calculate some basic statistics\n",
        "print(f\"Average monthly sales: ${df['sales'].mean():.2f}\")\n",
        "print(f\"Total profit: ${df['profit'].sum()}\")\n",
        "print(f\"Profit margin: {(df['profit'].sum() / df['sales'].sum() * 100):.1f}%\")\n",
        "\n",
        "# Correlation analysis\n",
        "correlation = df['sales'].corr(df['profit'])\n",
        "print(f\"Sales-Profit correlation: {correlation:.3f}\")"
      ],
      "id": "7b321972",
      "execution_count": null,
      "outputs": []
    },
    {
      "cell_type": "markdown",
      "metadata": {},
      "source": [
        "## Interactive Elements\n",
        "\n",
        "Quarto also supports interactive widgets and plots. While this example uses static matplotlib, you could easily integrate:\n",
        "\n",
        "- **Plotly** for interactive charts\n",
        "- **Jupyter widgets** for interactive controls  \n",
        "- **Observable JS** for web-native interactivity\n",
        "- **Shiny** for R-based interactive apps\n",
        "\n",
        "## Benefits for Data Science Blogging\n",
        "\n",
        "1. **Reproducible**: Code and output are generated together\n",
        "2. **Version controlled**: Everything is in markdown/code\n",
        "3. **Professional**: Beautiful typesetting and layout\n",
        "4. **Flexible**: Support for multiple languages and frameworks\n",
        "5. **Portable**: Renders to HTML, PDF, Word, and more\n",
        "\n",
        "This combination of narrative, code, mathematics, and visualization makes Quarto ideal for technical blogging in data science and machine learning!"
      ],
      "id": "1a9b622a"
    }
  ],
  "metadata": {
    "kernelspec": {
      "display_name": "Python 3",
      "language": "python",
      "name": "python3"
    }
  },
  "nbformat": 4,
  "nbformat_minor": 5
}